{
 "cells": [
  {
   "cell_type": "markdown",
   "metadata": {},
   "source": [
    "# The resource-consumer NP model with odeint"
   ]
  },
  {
   "cell_type": "code",
   "execution_count": 1,
   "metadata": {},
   "outputs": [],
   "source": [
    "import numpy as np\n",
    "from scipy.integrate import odeint\n",
    "import matplotlib.pyplot as plt"
   ]
  },
  {
   "cell_type": "markdown",
   "metadata": {},
   "source": [
    "The code below represents the dynamics\n",
    "$$\\frac{dN}{dt}=-k NP$$\n",
    "$$\\frac{dP}{dt}=k NP$$\n",
    "The parameter $k$ is an input to the function"
   ]
  },
  {
   "cell_type": "code",
   "execution_count": 2,
   "metadata": {},
   "outputs": [],
   "source": [
    "# function that returns the right hand side of the above equations\n",
    "def model(state,t,k):\n",
    "    N,P = state\n",
    "    Ndot = -k * N * P\n",
    "    Pdot =  k * N * P\n",
    "    return np.array([Ndot,Pdot])"
   ]
  },
  {
   "cell_type": "markdown",
   "metadata": {},
   "source": [
    "Set the initial conditions, the time axis and solve the ODE"
   ]
  },
  {
   "cell_type": "code",
   "execution_count": 3,
   "metadata": {},
   "outputs": [],
   "source": [
    "# initial conditions\n",
    "K = 0.1\n",
    "N0 = 5.\n",
    "P0 = 0.1\n",
    "state0 = np.array([N0,P0])\n",
    "\n",
    "# time points (days)\n",
    "t = np.linspace(0,20,num=100)\n",
    "\n",
    "# solve ODE using odeint (remember that args is a tuple)\n",
    "y = odeint(model,state0,t,args=(K,))"
   ]
  },
  {
   "cell_type": "code",
   "execution_count": 9,
   "metadata": {},
   "outputs": [
    {
     "data": {
      "image/png": "[encoded data removed]",
      "text/plain": [
       "<Figure size 432x288 with 1 Axes>"
      ]
     },
     "metadata": {
      "needs_background": "light"
     },
     "output_type": "display_data"
    }
   ],
   "source": [
    "# plot the resulting time series\n",
    "plt.plot(t,y[:,0],'b',label='N')\n",
    "plt.plot(t,y[:,1],'g',label='P')\n",
    "plt.xlabel('time (days)')\n",
    "plt.ylabel('mmol N m$^{-3}$')\n",
    "plt.legend()\n",
    "plt.show()"
   ]
  },
  {
   "cell_type": "markdown",
   "metadata": {},
   "source": [
    "# Exercise\n",
    "2. Write a new model to simulate the nutrient-phytoplankton-detritus system (NPD). Include a detritus variable D that is produced from the mortality of phytoplankton and it is remineralized as a nutrient. This will involve adding 2 new parameters: the mortality rate (phytoplankton lysis) and the remineralization rate.\n",
    "\n",
    "The model equations can be written using latex. Check the code in the inital cell above. Otherwise you can use the equation editor on Word or LibreOffice."
   ]
  },
  {
   "cell_type": "markdown",
   "metadata": {},
   "source": []
  },
  {
   "cell_type": "markdown",
   "metadata": {},
   "source": [
    "3. Write the code to solve the new model using odeint and propose some reasonable values for the parameters that lead to a realistic solution"
   ]
  },
  {
   "cell_type": "code",
   "execution_count": null,
   "metadata": {},
   "outputs": [],
   "source": []
  }
 ],
 "metadata": {
  "kernelspec": {
   "display_name": "Python 3",
   "language": "python",
   "name": "python3"
  },
  "language_info": {
   "codemirror_mode": {
    "name": "ipython",
    "version": 3
   },
   "file_extension": ".py",
   "mimetype": "text/x-python",
   "name": "python",
   "nbconvert_exporter": "python",
   "pygments_lexer": "ipython3",
   "version": "3.7.9"
  }
 },
 "nbformat": 4,
 "nbformat_minor": 4
}
